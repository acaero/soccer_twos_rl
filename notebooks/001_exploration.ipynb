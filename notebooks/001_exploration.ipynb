{
 "cells": [
  {
   "cell_type": "code",
   "execution_count": 4,
   "metadata": {},
   "outputs": [
    {
     "name": "stdout",
     "output_type": "stream",
     "text": [
      "[INFO] Connected to Unity environment with package version 2.1.0-exp.1 and communication version 1.5.0\n"
     ]
    },
    {
     "name": "stderr",
     "output_type": "stream",
     "text": [
      "INFO:mlagents_envs.environment:Connected to Unity environment with package version 2.1.0-exp.1 and communication version 1.5.0\n"
     ]
    },
    {
     "name": "stdout",
     "output_type": "stream",
     "text": [
      "[INFO] Connected new brain: SoccerTwos?team=1\n"
     ]
    },
    {
     "name": "stderr",
     "output_type": "stream",
     "text": [
      "INFO:mlagents_envs.environment:Connected new brain: SoccerTwos?team=1\n"
     ]
    },
    {
     "name": "stdout",
     "output_type": "stream",
     "text": [
      "[INFO] Connected new brain: SoccerTwos?team=0\n"
     ]
    },
    {
     "name": "stderr",
     "output_type": "stream",
     "text": [
      "INFO:mlagents_envs.environment:Connected new brain: SoccerTwos?team=0\n"
     ]
    }
   ],
   "source": [
    "import soccer_twos\n",
    "\n",
    "env = soccer_twos.make(\n",
    "    render=True, \n",
    "    time_scale=1,\n",
    "    quality_level=5,\n",
    "    )"
   ]
  },
  {
   "cell_type": "code",
   "execution_count": 2,
   "metadata": {},
   "outputs": [
    {
     "data": {
      "text/plain": [
       "Box([-inf -inf -inf -inf -inf -inf -inf -inf -inf -inf -inf -inf -inf -inf\n",
       " -inf -inf -inf -inf -inf -inf -inf -inf -inf -inf -inf -inf -inf -inf\n",
       " -inf -inf -inf -inf -inf -inf -inf -inf -inf -inf -inf -inf -inf -inf\n",
       " -inf -inf -inf -inf -inf -inf -inf -inf -inf -inf -inf -inf -inf -inf\n",
       " -inf -inf -inf -inf -inf -inf -inf -inf -inf -inf -inf -inf -inf -inf\n",
       " -inf -inf -inf -inf -inf -inf -inf -inf -inf -inf -inf -inf -inf -inf\n",
       " -inf -inf -inf -inf -inf -inf -inf -inf -inf -inf -inf -inf -inf -inf\n",
       " -inf -inf -inf -inf -inf -inf -inf -inf -inf -inf -inf -inf -inf -inf\n",
       " -inf -inf -inf -inf -inf -inf -inf -inf -inf -inf -inf -inf -inf -inf\n",
       " -inf -inf -inf -inf -inf -inf -inf -inf -inf -inf -inf -inf -inf -inf\n",
       " -inf -inf -inf -inf -inf -inf -inf -inf -inf -inf -inf -inf -inf -inf\n",
       " -inf -inf -inf -inf -inf -inf -inf -inf -inf -inf -inf -inf -inf -inf\n",
       " -inf -inf -inf -inf -inf -inf -inf -inf -inf -inf -inf -inf -inf -inf\n",
       " -inf -inf -inf -inf -inf -inf -inf -inf -inf -inf -inf -inf -inf -inf\n",
       " -inf -inf -inf -inf -inf -inf -inf -inf -inf -inf -inf -inf -inf -inf\n",
       " -inf -inf -inf -inf -inf -inf -inf -inf -inf -inf -inf -inf -inf -inf\n",
       " -inf -inf -inf -inf -inf -inf -inf -inf -inf -inf -inf -inf -inf -inf\n",
       " -inf -inf -inf -inf -inf -inf -inf -inf -inf -inf -inf -inf -inf -inf\n",
       " -inf -inf -inf -inf -inf -inf -inf -inf -inf -inf -inf -inf -inf -inf\n",
       " -inf -inf -inf -inf -inf -inf -inf -inf -inf -inf -inf -inf -inf -inf\n",
       " -inf -inf -inf -inf -inf -inf -inf -inf -inf -inf -inf -inf -inf -inf\n",
       " -inf -inf -inf -inf -inf -inf -inf -inf -inf -inf -inf -inf -inf -inf\n",
       " -inf -inf -inf -inf -inf -inf -inf -inf -inf -inf -inf -inf -inf -inf\n",
       " -inf -inf -inf -inf -inf -inf -inf -inf -inf -inf -inf -inf -inf -inf], [inf inf inf inf inf inf inf inf inf inf inf inf inf inf inf inf inf inf\n",
       " inf inf inf inf inf inf inf inf inf inf inf inf inf inf inf inf inf inf\n",
       " inf inf inf inf inf inf inf inf inf inf inf inf inf inf inf inf inf inf\n",
       " inf inf inf inf inf inf inf inf inf inf inf inf inf inf inf inf inf inf\n",
       " inf inf inf inf inf inf inf inf inf inf inf inf inf inf inf inf inf inf\n",
       " inf inf inf inf inf inf inf inf inf inf inf inf inf inf inf inf inf inf\n",
       " inf inf inf inf inf inf inf inf inf inf inf inf inf inf inf inf inf inf\n",
       " inf inf inf inf inf inf inf inf inf inf inf inf inf inf inf inf inf inf\n",
       " inf inf inf inf inf inf inf inf inf inf inf inf inf inf inf inf inf inf\n",
       " inf inf inf inf inf inf inf inf inf inf inf inf inf inf inf inf inf inf\n",
       " inf inf inf inf inf inf inf inf inf inf inf inf inf inf inf inf inf inf\n",
       " inf inf inf inf inf inf inf inf inf inf inf inf inf inf inf inf inf inf\n",
       " inf inf inf inf inf inf inf inf inf inf inf inf inf inf inf inf inf inf\n",
       " inf inf inf inf inf inf inf inf inf inf inf inf inf inf inf inf inf inf\n",
       " inf inf inf inf inf inf inf inf inf inf inf inf inf inf inf inf inf inf\n",
       " inf inf inf inf inf inf inf inf inf inf inf inf inf inf inf inf inf inf\n",
       " inf inf inf inf inf inf inf inf inf inf inf inf inf inf inf inf inf inf\n",
       " inf inf inf inf inf inf inf inf inf inf inf inf inf inf inf inf inf inf\n",
       " inf inf inf inf inf inf inf inf inf inf inf inf], (336,), float32)"
      ]
     },
     "execution_count": 2,
     "metadata": {},
     "output_type": "execute_result"
    }
   ],
   "source": [
    "env.observation_space"
   ]
  },
  {
   "cell_type": "code",
   "execution_count": 3,
   "metadata": {},
   "outputs": [
    {
     "data": {
      "text/plain": [
       "MultiDiscrete([3 3 3])"
      ]
     },
     "execution_count": 3,
     "metadata": {},
     "output_type": "execute_result"
    }
   ],
   "source": [
    "env.action_space"
   ]
  },
  {
   "cell_type": "code",
   "execution_count": 4,
   "metadata": {},
   "outputs": [],
   "source": [
    "import numpy as np\n",
    "\n",
    "def movement_to_ball(single_info):\n",
    "    player_pos = np.array(single_info[\"player_info\"]['position'])\n",
    "    current_player_rot = single_info[\"player_info\"]['rotation_y']\n",
    "    ball_pos = np.array(single_info[\"ball_info\"]['position'])\n",
    "\n",
    "    # Calculate the vector from player to ball\n",
    "    vector_to_ball = ball_pos - player_pos\n",
    "\n",
    "    # Calculate the angle of this vector\n",
    "    theta_ball = np.arctan2(vector_to_ball[1], vector_to_ball[0])\n",
    "    \n",
    "    # Convert current player rotation from degrees to radians\n",
    "    theta_player = np.deg2rad(current_player_rot)\n",
    "    \n",
    "    # Calculate the angle difference\n",
    "    delta_theta = theta_ball - theta_player\n",
    "    \n",
    "    # Normalize the angle to the range [-π, π]\n",
    "    delta_theta = (delta_theta + np.pi) % (2 * np.pi) - np.pi\n",
    "    \n",
    "    # Determine the rotation direction\n",
    "    if delta_theta > 0:\n",
    "        rot = 1\n",
    "    elif delta_theta < 0:\n",
    "        rot = -1\n",
    "    else:\n",
    "        rot = 0\n",
    "\n",
    "    return [0, 0, rot]\n",
    "\n",
    "action = {\n",
    "    0: [0, 0, 0],\n",
    "    1: [0, 0, 0],\n",
    "    2: [0, 0, 0],\n",
    "    3: [0, 0, 0],\n",
    "}\n",
    "\n",
    "obs, reward, done, info = env.step(action)    "
   ]
  },
  {
   "cell_type": "code",
   "execution_count": 5,
   "metadata": {},
   "outputs": [],
   "source": [
    "action = {\n",
    "        0: [1, 0, 0],\n",
    "        1: [2, 0, 0],\n",
    "        2: [-1, 0, 0],\n",
    "        3: [-2, 0, 0],\n",
    "    }\n",
    "\n",
    "obs, reward, done, info = env.step(action)    \n"
   ]
  },
  {
   "cell_type": "code",
   "execution_count": 3,
   "metadata": {},
   "outputs": [],
   "source": [
    "env.close()"
   ]
  },
  {
   "cell_type": "code",
   "execution_count": null,
   "metadata": {},
   "outputs": [],
   "source": []
  }
 ],
 "metadata": {
  "kernelspec": {
   "display_name": ".venv",
   "language": "python",
   "name": "python3"
  },
  "language_info": {
   "codemirror_mode": {
    "name": "ipython",
    "version": 3
   },
   "file_extension": ".py",
   "mimetype": "text/x-python",
   "name": "python",
   "nbconvert_exporter": "python",
   "pygments_lexer": "ipython3",
   "version": "3.9.1"
  }
 },
 "nbformat": 4,
 "nbformat_minor": 2
}
