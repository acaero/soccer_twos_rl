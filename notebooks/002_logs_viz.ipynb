{
 "cells": [
  {
   "cell_type": "code",
   "execution_count": null,
   "metadata": {},
   "outputs": [],
   "source": [
    "# Required for importing modules from parent directory\n",
    "import os\n",
    "import sys\n",
    "\n",
    "current_dir = os.path.dirname(os.path.abspath(\"__file__\"))\n",
    "parent_dir = os.path.dirname(current_dir)\n",
    "print(parent_dir)\n",
    "sys.path.append(parent_dir)"
   ]
  },
  {
   "cell_type": "code",
   "execution_count": null,
   "metadata": {},
   "outputs": [],
   "source": [
    "# https://developer.nvidia.com/cuda-11-8-0-download-archive?target_os=Windows&target_arch=x86_64&target_version=11&target_type=exe_local\n",
    "# https://pytorch.org/get-started/locally/"
   ]
  },
  {
   "cell_type": "code",
   "execution_count": null,
   "metadata": {},
   "outputs": [],
   "source": [
    "import torch\n",
    "\n",
    "print(\"cuDNN version: \", torch.backends.cudnn.version())\n",
    "torch.cuda.is_available()"
   ]
  },
  {
   "cell_type": "code",
   "execution_count": null,
   "metadata": {},
   "outputs": [],
   "source": [
    "from path import Path\n",
    "\n",
    "from src.config import LOG_DIR\n",
    "from src.utils import read_json_log_file\n",
    "\n",
    "# Specify the file path\n",
    "file_path = Path(parent_dir) / LOG_DIR / \"plain/logs.json\"\n",
    "\n",
    "logs = read_json_log_file(file_path)\n",
    "\n",
    "# Process the logs\n",
    "# ...\n",
    "\n",
    "# Example: Print the logs\n",
    "for log in logs[0:10]:\n",
    "    print(log)"
   ]
  },
  {
   "cell_type": "code",
   "execution_count": null,
   "metadata": {},
   "outputs": [],
   "source": [
    "import ast\n",
    "\n",
    "info = ast.literal_eval(logs[-1][\"info\"])\n",
    "info[0]"
   ]
  },
  {
   "cell_type": "code",
   "execution_count": null,
   "metadata": {},
   "outputs": [],
   "source": [
    "import ast\n",
    "\n",
    "import matplotlib.pyplot as plt\n",
    "import numpy as np\n",
    "\n",
    "# Extract positions and paths for each agent\n",
    "agent_positions = {0: [], 1: [], 2: [], 3: []}\n",
    "\n",
    "for log_entry in logs:\n",
    "    info = ast.literal_eval(log_entry[\"info\"])\n",
    "    for agent_id in info:\n",
    "        agent_positions[int(agent_id)].append(info[agent_id][\"player_info\"][\"position\"])\n",
    "\n",
    "# Convert lists to numpy arrays for easier handling\n",
    "for agent_id in agent_positions:\n",
    "    agent_positions[agent_id] = np.array(agent_positions[agent_id])\n",
    "\n",
    "# Create a heatmap\n",
    "fig, ax = plt.subplots()\n",
    "all_positions = np.vstack([agent_positions[agent_id] for agent_id in agent_positions])\n",
    "heatmap, xedges, yedges = np.histogram2d(\n",
    "    all_positions[:, 0], all_positions[:, 1], bins=50\n",
    ")\n",
    "\n",
    "# Plot heatmap\n",
    "extent = [xedges[0], xedges[-1], yedges[0], yedges[-1]]\n",
    "ax.imshow(heatmap.T, extent=extent, origin=\"lower\", cmap=\"Blues\", alpha=0.5)\n",
    "\n",
    "# Define colors for each agent\n",
    "colors = [\"blue\", \"lightblue\", \"orange\", \"yellow\"]\n",
    "\n",
    "for agent_id, color in zip(agent_positions, colors):\n",
    "    num_points = len(agent_positions[agent_id])\n",
    "    for i, pos in enumerate(agent_positions[agent_id]):\n",
    "        alpha = (i + 1) / num_points  # More recent points will have lower transparency\n",
    "        ax.scatter(\n",
    "            pos[0], pos[1], color=color, alpha=alpha, s=20\n",
    "        )  # Size fixed for simplicity\n",
    "    ax.plot(\n",
    "        agent_positions[agent_id][:, 0],\n",
    "        agent_positions[agent_id][:, 1],\n",
    "        color=color,\n",
    "        alpha=0.7,\n",
    "        label=f\"Agent {agent_id}\",\n",
    "    )\n",
    "\n",
    "# Adding labels and legend\n",
    "ax.set_title(\"Agent Positions Heatmap\")\n",
    "ax.set_xlabel(\"X Position\")\n",
    "ax.set_ylabel(\"Y Position\")\n",
    "ax.legend()\n",
    "\n",
    "# Show plot\n",
    "plt.show()"
   ]
  },
  {
   "cell_type": "code",
   "execution_count": null,
   "metadata": {},
   "outputs": [],
   "source": [
    "# Create a heatmap for Agent 0\n",
    "fig, ax = plt.subplots()\n",
    "all_positions = agent_positions[0]\n",
    "heatmap, xedges, yedges = np.histogram2d(\n",
    "    all_positions[:, 0], all_positions[:, 1], bins=50\n",
    ")\n",
    "\n",
    "# Plot heatmap\n",
    "extent = [xedges[0], xedges[-1], yedges[0], yedges[-1]]\n",
    "ax.imshow(heatmap.T, extent=extent, origin=\"lower\", cmap=\"Blues\", alpha=0.5)\n",
    "\n",
    "# Define color for Agent 0\n",
    "color = \"blue\"\n",
    "\n",
    "num_points = len(agent_positions[0])\n",
    "for i, pos in enumerate(agent_positions[0]):\n",
    "    alpha = (i + 1) / num_points  # More recent points will have lower transparency\n",
    "    ax.scatter(\n",
    "        pos[0], pos[1], color=color, alpha=alpha, s=20\n",
    "    )  # Size fixed for simplicity\n",
    "ax.plot(\n",
    "    agent_positions[0][:, 0],\n",
    "    agent_positions[0][:, 1],\n",
    "    color=color,\n",
    "    alpha=0.7,\n",
    "    label=\"Agent 0\",\n",
    ")\n",
    "\n",
    "# Adding labels and legend\n",
    "ax.set_title(\"Agent 0 Positions Heatmap\")\n",
    "ax.set_xlabel(\"X Position\")\n",
    "ax.set_ylabel(\"Y Position\")\n",
    "ax.legend()\n",
    "\n",
    "# Show plot\n",
    "plt.show()"
   ]
  },
  {
   "cell_type": "code",
   "execution_count": null,
   "metadata": {},
   "outputs": [],
   "source": []
  }
 ],
 "metadata": {
  "kernelspec": {
   "display_name": ".venv",
   "language": "python",
   "name": "python3"
  },
  "language_info": {
   "codemirror_mode": {
    "name": "ipython",
    "version": 3
   },
   "file_extension": ".py",
   "mimetype": "text/x-python",
   "name": "python",
   "nbconvert_exporter": "python",
   "pygments_lexer": "ipython3",
   "version": "3.9.1"
  }
 },
 "nbformat": 4,
 "nbformat_minor": 2
}
