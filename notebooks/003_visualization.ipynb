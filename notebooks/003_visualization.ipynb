{
 "cells": [
  {
   "cell_type": "code",
   "execution_count": null,
   "metadata": {},
   "outputs": [],
   "source": [
    "# Required for importing modules from parent directory\n",
    "import os\n",
    "import sys\n",
    "\n",
    "current_dir = os.path.dirname(os.path.abspath(\"__file__\"))\n",
    "parent_dir = os.path.dirname(current_dir)\n",
    "print(parent_dir)\n",
    "sys.path.append(parent_dir)"
   ]
  },
  {
   "cell_type": "code",
   "execution_count": null,
   "metadata": {},
   "outputs": [],
   "source": [
    "import json\n",
    "from pathlib import Path\n",
    "\n",
    "import matplotlib.pyplot as plt\n",
    "import numpy as np\n",
    "import pandas as pd\n",
    "\n",
    "ROOT = Path().cwd().parent\n",
    "ROOT"
   ]
  },
  {
   "cell_type": "code",
   "execution_count": null,
   "metadata": {},
   "outputs": [],
   "source": [
    "def load_log(path: Path):\n",
    "    entries = []\n",
    "    try:\n",
    "        with open(path, \"r\") as file:\n",
    "            for line in file:\n",
    "                try:\n",
    "                    log = json.loads(line.strip())\n",
    "                    entries.append(log)\n",
    "                except json.JSONDecodeError as e:\n",
    "                    print(f\"Error decoding JSON line: {e}\")\n",
    "    except Exception as e:\n",
    "        print(f\"Error reading JSON log file: {e}\")\n",
    "    return entries"
   ]
  },
  {
   "cell_type": "code",
   "execution_count": null,
   "metadata": {},
   "outputs": [],
   "source": [
    "a2c = load_log(ROOT / \"src/visualization/data/a2c_v1/logs_a2c.json\")\n",
    "ddpq = load_log(ROOT / \"src/visualization/data/ddpg_v1/logs_ddpg.json\")\n",
    "dqn = load_log(ROOT / \"src/visualization/data/dqn_v1/logs_dqn.json\")\n",
    "ppo = load_log(ROOT / \"src/visualization/data/ppo_v1/logs_ppo.json\")\n",
    "\n",
    "len(a2c), len(ddpq), len(dqn), len(ppo)"
   ]
  },
  {
   "cell_type": "code",
   "execution_count": null,
   "metadata": {},
   "outputs": [],
   "source": []
  }
 ],
 "metadata": {
  "kernelspec": {
   "display_name": ".venv",
   "language": "python",
   "name": "python3"
  },
  "language_info": {
   "codemirror_mode": {
    "name": "ipython",
    "version": 3
   },
   "file_extension": ".py",
   "mimetype": "text/x-python",
   "name": "python",
   "nbconvert_exporter": "python",
   "pygments_lexer": "ipython3",
   "version": "3.9.17"
  }
 },
 "nbformat": 4,
 "nbformat_minor": 2
}
