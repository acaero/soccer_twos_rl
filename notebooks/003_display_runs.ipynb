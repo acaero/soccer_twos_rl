{
 "cells": [
  {
   "cell_type": "code",
   "execution_count": null,
   "metadata": {},
   "outputs": [],
   "source": [
    "# Required for importing modules from parent directory\n",
    "import os\n",
    "import sys\n",
    "\n",
    "current_dir = os.path.dirname(os.path.abspath(\"__file__\"))\n",
    "parent_dir = os.path.dirname(current_dir)\n",
    "print(parent_dir)\n",
    "sys.path.append(parent_dir)"
   ]
  },
  {
   "cell_type": "code",
   "execution_count": null,
   "metadata": {},
   "outputs": [],
   "source": [
    "from pathlib import Path\n",
    "\n",
    "import soccer_twos\n",
    "\n",
    "from src.agents.ddpg_agent import DDPGAgent\n",
    "from src.agents.ddqn_agent import DDQNAgent\n",
    "from src.agents.maddpg_agent import MADDPGAgent\n",
    "from src.config import CHECKPOINT_DIR, N_GAMES\n",
    "from src.utils import RewardShaper"
   ]
  },
  {
   "cell_type": "code",
   "execution_count": null,
   "metadata": {},
   "outputs": [],
   "source": [
    "def evaluate_agent(agent, n_games=N_GAMES):\n",
    "    env = soccer_twos.make(\n",
    "        render=True,\n",
    "        time_scale=1,\n",
    "        quality_level=5,\n",
    "    )\n",
    "    reward_shaper = RewardShaper()\n",
    "\n",
    "    for i in range(n_games):\n",
    "        obs = env.reset()\n",
    "        done = False\n",
    "        score = 0\n",
    "        while not done:\n",
    "            actions = {\n",
    "                0: [0, 0, 0],\n",
    "                1: [0, 0, 0],\n",
    "                2: [0, 0, 0],\n",
    "                3: [0, 0, 0],\n",
    "            }\n",
    "            actions[0] = agent.act(obs[0])\n",
    "            print(actions)\n",
    "\n",
    "            next_obs, reward, done, info = env.step(actions)\n",
    "            done = done[\"__all__\"]\n",
    "            obs = next_obs\n",
    "            score = reward[0] + reward_shaper.calculate_reward(\n",
    "                obs[0], next_obs[0], info, 0\n",
    "            )\n",
    "            env.render()  # Render the environment to visualize the game\n",
    "\n",
    "        print(f\"Evaluation Game {i}, Score: {score}\")"
   ]
  },
  {
   "cell_type": "code",
   "execution_count": null,
   "metadata": {},
   "outputs": [],
   "source": [
    "# Load the best agent (example: checkpoint at episode 90)\n",
    "best_agent = MADDPGAgent(336, 3)\n",
    "best_agent.load(parent_dir / Path(CHECKPOINT_DIR) / \"checkpoint_DDQN_agent_1_40.pth\")\n",
    "\n",
    "# Evaluate the trained agent\n",
    "evaluate_agent(best_agent, n_games=5)"
   ]
  },
  {
   "cell_type": "code",
   "execution_count": null,
   "metadata": {},
   "outputs": [],
   "source": []
  },
  {
   "cell_type": "code",
   "execution_count": null,
   "metadata": {},
   "outputs": [],
   "source": []
  }
 ],
 "metadata": {
  "kernelspec": {
   "display_name": ".venv",
   "language": "python",
   "name": "python3"
  },
  "language_info": {
   "codemirror_mode": {
    "name": "ipython",
    "version": 3
   },
   "file_extension": ".py",
   "mimetype": "text/x-python",
   "name": "python",
   "nbconvert_exporter": "python",
   "pygments_lexer": "ipython3",
   "version": "3.9.1"
  }
 },
 "nbformat": 4,
 "nbformat_minor": 2
}
