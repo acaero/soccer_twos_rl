{
 "cells": [
  {
   "cell_type": "code",
   "execution_count": null,
   "metadata": {},
   "outputs": [],
   "source": [
    "# Required for importing modules from parent directory\n",
    "import os\n",
    "import sys\n",
    "\n",
    "current_dir = os.path.dirname(os.path.abspath(\"__file__\"))\n",
    "parent_dir = os.path.dirname(current_dir)\n",
    "print(parent_dir)\n",
    "sys.path.append(parent_dir)"
   ]
  },
  {
   "cell_type": "code",
   "execution_count": null,
   "metadata": {},
   "outputs": [],
   "source": [
    "from pathlib import Path\n",
    "\n",
    "import soccer_twos\n",
    "\n",
    "from src.agents.ddpg_agent import DDPGAgents\n",
    "from src.agents.ddqn_agent import DDQNAgents\n",
    "from src.agents.maddpg_agent import MADDPGAgents\n",
    "from src.agents.ppo_agent import PPOAgents\n",
    "from src.agents.sac_agents import SACAgents\n",
    "from src.config import CHECKPOINT_DIR, N_GAMES\n",
    "from src.utils import shape_rewards\n",
    "\n",
    "multiplayer = False\n",
    "# CHECKPOINT_DIR = \"notebooks/data/kaggle_single_out_1000/checkpoints\""
   ]
  },
  {
   "cell_type": "code",
   "execution_count": null,
   "metadata": {},
   "outputs": [],
   "source": [
    "import random\n",
    "\n",
    "\n",
    "def evaluate_agent(agent, n_games=N_GAMES):\n",
    "    env = soccer_twos.make(\n",
    "        render=True, time_scale=1, quality_level=5, worker_id=random.randint(0, 100)\n",
    "    )\n",
    "\n",
    "    for i in range(n_games):\n",
    "        obs = env.reset()\n",
    "        done = False\n",
    "        score = 0\n",
    "        while not done:\n",
    "            actions = {}\n",
    "            if not multiplayer:\n",
    "                if isinstance(agent, PPOAgents):\n",
    "                    actions, _ = agent.act({i: obs[i] for i in range(agent.num_agents)})\n",
    "                else:\n",
    "                    actions = agent.act({i: obs[i] for i in range(agent.num_agents)})\n",
    "                for i in range(agent.num_agents, 4):\n",
    "                    actions[i] = [0, 0, 0]\n",
    "\n",
    "            else:\n",
    "                for i in range(4):\n",
    "                    if isinstance(agent, PPOAgents):\n",
    "                        action, _ = agent.act({0: obs[i]})\n",
    "                    else:\n",
    "                        action = agent.act({0: obs[i]})\n",
    "                    actions[i] = action.pop(0)\n",
    "            next_obs, reward, done, info = env.step(actions)\n",
    "            done = done[\"__all__\"]\n",
    "            obs = next_obs\n",
    "            score = reward[0] + shape_rewards(info, 0)\n",
    "            print(score)\n",
    "            # print(shape_rewards(info, 0))\n",
    "            env.render()  # Render the environment to visualize the game"
   ]
  },
  {
   "cell_type": "code",
   "execution_count": null,
   "metadata": {},
   "outputs": [],
   "source": [
    "import glob\n",
    "\n",
    "multiplayer = True\n",
    "# Load the best agent (example: checkpoint at episode 90)\n",
    "best_agent = PPOAgents(1, 336, 3)\n",
    "\n",
    "agent_name = best_agent.__class__.__name__.lower().replace(\"agents\", \"\")\n",
    "pattern = f\"best_model_{agent_name}\"\n",
    "\n",
    "matching_files = glob.glob(str(parent_dir / Path(CHECKPOINT_DIR) / f\"{pattern}*\"))\n",
    "filename = matching_files[0] if matching_files else None\n",
    "\n",
    "\n",
    "print(matching_files)\n",
    "best_agent.load(parent_dir / Path(CHECKPOINT_DIR) / str(matching_files[0]))\n",
    "\n",
    "# Evaluate the trained agent\n",
    "evaluate_agent(best_agent, n_games=5)"
   ]
  },
  {
   "cell_type": "code",
   "execution_count": null,
   "metadata": {},
   "outputs": [],
   "source": []
  }
 ],
 "metadata": {
  "kernelspec": {
   "display_name": ".venv",
   "language": "python",
   "name": "python3"
  },
  "language_info": {
   "codemirror_mode": {
    "name": "ipython",
    "version": 3
   },
   "file_extension": ".py",
   "mimetype": "text/x-python",
   "name": "python",
   "nbconvert_exporter": "python",
   "pygments_lexer": "ipython3",
   "version": "3.9.1"
  }
 },
 "nbformat": 4,
 "nbformat_minor": 2
}
