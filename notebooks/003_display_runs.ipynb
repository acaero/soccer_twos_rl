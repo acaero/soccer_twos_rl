{
 "cells": [
  {
   "cell_type": "code",
   "execution_count": null,
   "metadata": {},
   "outputs": [],
   "source": [
    "# Required for importing modules from parent directory\n",
    "import os\n",
    "import sys\n",
    "\n",
    "current_dir = os.path.dirname(os.path.abspath(\"__file__\"))\n",
    "parent_dir = os.path.dirname(current_dir)\n",
    "print(parent_dir)\n",
    "sys.path.append(parent_dir)"
   ]
  },
  {
   "cell_type": "code",
   "execution_count": null,
   "metadata": {},
   "outputs": [],
   "source": [
    "from pathlib import Path\n",
    "\n",
    "import soccer_twos\n",
    "\n",
    "from src.agents.a2c_agent import A2CAgent\n",
    "from src.agents.ddpg_agent import DDPGAgent\n",
    "from src.agents.ddqn_agent import DQNAgent\n",
    "from src.agents.maddpg_agent import MADDPGAgents\n",
    "from src.agents.ppo_agent import PPOAgent\n",
    "from src.config import CHECKPOINT_DIR, N_GAMES\n",
    "from src.utils import shape_rewards\n",
    "\n",
    "multiplayer = False\n",
    "# CHECKPOINT_DIR = \"notebooks/data/kaggle_single_out_1000/checkpoints\""
   ]
  },
  {
   "cell_type": "code",
   "execution_count": null,
   "metadata": {},
   "outputs": [],
   "source": [
    "import random\n",
    "\n",
    "\n",
    "def evaluate_agent(agent, n_games=N_GAMES):\n",
    "    env = soccer_twos.make(render=True, time_scale=1, quality_level=5, worker_id=3)\n",
    "\n",
    "    for i in range(n_games):\n",
    "        obs = env.reset()\n",
    "        done = False\n",
    "        scores = {}\n",
    "        i = 0\n",
    "        while not done:\n",
    "            i += 1\n",
    "            actions = {}\n",
    "            for j in range(4):\n",
    "                actions[j] = [0, 0, 0]\n",
    "                if j < agent.num_agents:\n",
    "                    if agent.__class__.__name__.lower().replace(\"agent\", \"\") == \"ppo\":\n",
    "                        actions[j], _ = agent.act(obs[j])\n",
    "                    else:\n",
    "                        actions[j] = agent.act(obs[j])\n",
    "                    print(\n",
    "                        \"evaluating agent\",\n",
    "                        j,\n",
    "                        \"in time step\",\n",
    "                        i,\n",
    "                        \"with action\",\n",
    "                        actions[j],\n",
    "                        \"and observation\",\n",
    "                        obs[j][:8],\n",
    "                    )\n",
    "\n",
    "            next_obs, reward, done, info = env.step(actions)\n",
    "            done = done[\"__all__\"]\n",
    "            shape_rewards(info, 0)\n",
    "            obs = next_obs\n",
    "\n",
    "    env.close()"
   ]
  },
  {
   "cell_type": "code",
   "execution_count": null,
   "metadata": {},
   "outputs": [],
   "source": [
    "import glob\n",
    "\n",
    "multiplayer = True\n",
    "# Load the best agent (example: checkpoint at episode 90)\n",
    "best_agent = A2CAgent(336, 3)\n",
    "\n",
    "agent_name = best_agent.__class__.__name__.lower().replace(\"agent\", \"\")\n",
    "pattern = f\"best_model_{agent_name}\"\n",
    "\n",
    "matching_files = glob.glob(str(parent_dir / Path(CHECKPOINT_DIR) / f\"{pattern}*\"))\n",
    "filename = matching_files[0] if matching_files else None\n",
    "\n",
    "\n",
    "print(matching_files)\n",
    "best_agent.load(parent_dir / Path(CHECKPOINT_DIR) / str(matching_files[0]))\n",
    "\n",
    "# Evaluate the trained agent\n",
    "evaluate_agent(best_agent, n_games=5)"
   ]
  },
  {
   "cell_type": "code",
   "execution_count": null,
   "metadata": {},
   "outputs": [],
   "source": []
  }
 ],
 "metadata": {
  "kernelspec": {
   "display_name": ".venv",
   "language": "python",
   "name": "python3"
  },
  "language_info": {
   "codemirror_mode": {
    "name": "ipython",
    "version": 3
   },
   "file_extension": ".py",
   "mimetype": "text/x-python",
   "name": "python",
   "nbconvert_exporter": "python",
   "pygments_lexer": "ipython3",
   "version": "3.9.1"
  }
 },
 "nbformat": 4,
 "nbformat_minor": 2
}
