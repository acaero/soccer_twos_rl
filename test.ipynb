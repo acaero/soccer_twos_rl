{
 "cells": [
  {
   "cell_type": "code",
   "execution_count": null,
   "metadata": {},
   "outputs": [],
   "source": [
    "# Required for importing modules from parent directory\n",
    "import os\n",
    "import sys\n",
    "\n",
    "import soccer_twos\n",
    "\n",
    "from src.config import N_GAMES\n",
    "from src.utils import shape_rewards\n",
    "\n",
    "current_dir = os.path.dirname(os.path.abspath(\"__file__\"))\n",
    "parent_dir = os.path.dirname(current_dir)\n",
    "print(parent_dir)\n",
    "sys.path.append(parent_dir)"
   ]
  },
  {
   "cell_type": "code",
   "execution_count": null,
   "metadata": {},
   "outputs": [],
   "source": [
    "CHECKPOINT_DIR = \"src\\runs\\out\\checkpoints\\checkpoints.zip\""
   ]
  },
  {
   "cell_type": "code",
   "execution_count": null,
   "metadata": {},
   "outputs": [],
   "source": [
    "import random\n",
    "\n",
    "import numpy as np\n",
    "\n",
    "\n",
    "def evaluate_agent(agent, n_games=N_GAMES):\n",
    "    env = soccer_twos.make(render=True, time_scale=1, quality_level=5, worker_id=3)\n",
    "\n",
    "    for i in range(n_games):\n",
    "        obs = env.reset()\n",
    "        done = False\n",
    "        scores = {}\n",
    "        i = 0\n",
    "        while not done:\n",
    "            i += 1\n",
    "            actions = {}\n",
    "            for j in range(4):\n",
    "                actions[j], _ = agent.predict(np.array(obs[j]))\n",
    "\n",
    "            next_obs, reward, done, info = env.step(actions)\n",
    "            print(\n",
    "                \"[Agent 0] Reward: \",\n",
    "                reward[0],\n",
    "                \" Score: \",\n",
    "                shape_rewards(info, 0),\n",
    "                \"Action: \",\n",
    "                actions[0],\n",
    "            )\n",
    "            done = done[\"__all__\"]\n",
    "            shape_rewards(info, 0)\n",
    "            obs = next_obs\n",
    "\n",
    "    env.close()"
   ]
  },
  {
   "cell_type": "code",
   "execution_count": null,
   "metadata": {},
   "outputs": [],
   "source": [
    "from pathlib import Path\n",
    "\n",
    "from stable_baselines3 import PPO\n",
    "\n",
    "best_agent = PPO.load(Path(\"src/runs/out/checkpoints/bestmodel_ppo.zip\"))\n",
    "# Evaluate the trained agent\n",
    "evaluate_agent(best_agent, n_games=5)"
   ]
  },
  {
   "cell_type": "code",
   "execution_count": null,
   "metadata": {},
   "outputs": [],
   "source": [
    "from stable_baselines3.common import results_plotter\n",
    "from stable_baselines3.common.monitor import load_results\n",
    "\n",
    "df = load_results(\"out/logs/plain/\")\n",
    "df.head()"
   ]
  },
  {
   "cell_type": "code",
   "execution_count": null,
   "metadata": {},
   "outputs": [],
   "source": []
  }
 ],
 "metadata": {
  "kernelspec": {
   "display_name": ".venv",
   "language": "python",
   "name": "python3"
  },
  "language_info": {
   "codemirror_mode": {
    "name": "ipython",
    "version": 3
   },
   "file_extension": ".py",
   "mimetype": "text/x-python",
   "name": "python",
   "nbconvert_exporter": "python",
   "pygments_lexer": "ipython3",
   "version": "3.9.1"
  }
 },
 "nbformat": 4,
 "nbformat_minor": 2
}
